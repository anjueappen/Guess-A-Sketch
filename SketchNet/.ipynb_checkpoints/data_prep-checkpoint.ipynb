{
 "cells": [
  {
   "cell_type": "code",
   "execution_count": 18,
   "metadata": {
    "collapsed": false
   },
   "outputs": [],
   "source": [
    "import os\n",
    "import numpy as np\n",
    "import tensorflow as tf\n",
    "from numpy.lib.stride_tricks import as_strided\n",
    "from scipy.signal import convolve2d\n",
    "import multiprocessing\n",
    "import random\n",
    "\n",
    "from PIL import Image"
   ]
  },
  {
   "cell_type": "markdown",
   "metadata": {},
   "source": [
    "Image Preprocessing: \n",
    "1. Get class labels (aka directory names)\n",
    "2. Create template vector by length of number of classes --> ground truth/label vector \n",
    "3. Read each image from classes and flatten, append ground truth vector to image\n",
    "    - Note down where the ground truth vector starts/resize foreign images to same as existing dataset\n",
    "4. Aggregate all images and split into K groups (if not equally divisible, throw error)\n",
    "5. def get_batch(batch_size): return a random batch from K-1 groups\n",
    "\n",
    "Parameters from net: \n",
    "(1) batch size \n",
    "(2) data directory (therefore image dimensions/ground truth length etc.)"
   ]
  },
  {
   "cell_type": "code",
   "execution_count": 24,
   "metadata": {
    "collapsed": false,
    "scrolled": false
   },
   "outputs": [],
   "source": [
    "def get_classes(folder):\n",
    "    return [x[0].split('/')[-1] for x in os.walk(folder)][1:]\n",
    "\n",
    "\n",
    "def read_and_flatten(class_dir, ground_truth):\n",
    "    fnames = [(os.path.join(class_dir, f), ground_truth) \n",
    "              for f in os.listdir(class_dir) \n",
    "              if os.path.isfile(os.path.join(class_dir, f))]\n",
    "    return fnames\n",
    "\n",
    "def preprocess(directory):\n",
    "    \"\"\"\n",
    "    Returns: list of tuples: (filename, ground truth)\n",
    "    \"\"\"\n",
    "    classes = get_classes(directory)\n",
    "    num_classes = len(classes)\n",
    "    \n",
    "    imgs = []\n",
    "    #multiprocess this loop? \n",
    "    for i in range(num_classes):\n",
    "        ground_truth = np.zeros(num_classes)\n",
    "        ground_truth[i] = 1 # set label for this \n",
    "        \n",
    "        imgs += read_and_flatten(directory +'/'+ classes[i], ground_truth)\n",
    "    return imgs\n",
    "\n",
    "def create_batch(truth_mapping, indicies, batch_size):\n",
    "    \"\"\"\n",
    "    truth_mapping: list of tuples: (filepath, truth_vector)\n",
    "    indicies: list of indicies we can use in batch \n",
    "    batch_size: how many images to use in batch \n",
    "    \"\"\"\n",
    "    if len(truth_mapping) < batch_size: \n",
    "        raise Exception('Not enough images to create batch!'); \n",
    "    \n",
    "    X = []\n",
    "    truth = []\n",
    "    print(type(indicies))\n",
    "    random.shuffle(indicies)\n",
    "    \n",
    "    for i in indicies[:batch_size]:\n",
    "        path, ground_truth = truth_mapping[i]\n",
    "        X.append(np.ndarray.flatten(np.array(Image.open(path))))\n",
    "        truth.append(ground_truth)\n",
    "        \n",
    "        random.shuffle(indicies) # reshuffle \n",
    "        \n",
    "    return X, truth\n",
    "\n",
    "# preprocess('/Users/anjueappen/Downloads/png')"
   ]
  },
  {
   "cell_type": "code",
   "execution_count": 14,
   "metadata": {
    "collapsed": false
   },
   "outputs": [],
   "source": [
    "# # for each image, we want to create some time for\n",
    "# from sklearn.model_selection import KFold\n",
    "# def partition_data(items, k):\n",
    "#     kf = KFold(n_splits=k, shuffle=True)\n",
    "#     for train_index, test_index in kf.split(items):\n",
    "#             print(len(create_batch(items[train_index], 10)))\n",
    "\n",
    "# partition_data(list(ground_truth_mapping.items()), 10)"
   ]
  },
  {
   "cell_type": "code",
   "execution_count": null,
   "metadata": {
    "collapsed": true
   },
   "outputs": [],
   "source": []
  }
 ],
 "metadata": {
  "kernelspec": {
   "display_name": "Python 3",
   "language": "python",
   "name": "python3"
  },
  "language_info": {
   "codemirror_mode": {
    "name": "ipython",
    "version": 3
   },
   "file_extension": ".py",
   "mimetype": "text/x-python",
   "name": "python",
   "nbconvert_exporter": "python",
   "pygments_lexer": "ipython3",
   "version": "3.5.2"
  }
 },
 "nbformat": 4,
 "nbformat_minor": 2
}
