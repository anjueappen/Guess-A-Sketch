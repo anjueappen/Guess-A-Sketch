{
 "cells": [
  {
   "cell_type": "code",
   "execution_count": 16,
   "metadata": {
    "collapsed": false
   },
   "outputs": [
    {
     "name": "stdout",
     "output_type": "stream",
     "text": [
      "18\n",
      "/Users/anjueappen/png/airplane/1_0.png\n",
      "17\n",
      "/Users/anjueappen/png/airplane/1_1.png\n",
      "16\n",
      "/Users/anjueappen/png/airplane/1_2.png\n",
      "15\n",
      "/Users/anjueappen/png/airplane/1_3.png\n",
      "14\n",
      "/Users/anjueappen/png/airplane/1_4.png\n"
     ]
    }
   ],
   "source": [
    "import sys, os\n",
    "module_path = os.path.abspath(os.path.join('..'))\n",
    "if module_path not in sys.path:\n",
    "    sys.path.append(module_path)\n",
    "\n",
    "from preprocessing.data_prep import preprocess\n",
    "import cairosvg\n",
    "from xml.dom import minidom\n",
    "from svg.path import parse_path\n",
    "import math\n",
    "\n",
    "from statistics import mean, stdev \n",
    "\n",
    "ALPHA = 0.95\n",
    "BETA = 0.05\n",
    "SPAWN_COUNT = 5\n",
    "\n",
    "basefiles = preprocess('/Users/anjueappen/svg')\n",
    "   \n",
    "def compute_prob(string, index):\n",
    "    order = index\n",
    "    try:\n",
    "        length = parse_path(string).length()\n",
    "    except ZeroDivisionError:\n",
    "        length = 0\n",
    "    return math.exp(ALPHA*order)/math.exp(BETA*length)\n",
    "    \n",
    "for basefile, _ in basefiles[:1]:\n",
    "    doc = minidom.parse(basefile)\n",
    "    path_strings = [(path, compute_prob(path.getAttribute('d'), index)) for index, path\n",
    "                    in enumerate(doc.getElementsByTagName('path'))]\n",
    "    \n",
    "    vals = [item[1] for item in path_strings]\n",
    "    avg = mean(vals)\n",
    "#     std = stdev(vals)\n",
    "    \n",
    "    path_strings = [(string, prob/avg) for string, prob in path_strings]\n",
    "    \n",
    "#     import pprint;pprint.pprint(path_strings)\n",
    "    for i in range(SPAWN_COUNT):\n",
    "        path_strings.remove(max(path_strings, key=lambda x: x[1])) \n",
    "        print(len(path_strings))\n",
    "        doc.childNodes[1].childNodes[1].childNodes[1].childNodes = [string[0] for string in path_strings]\n",
    "        \n",
    "        spawn_file = basefile.replace('svg', 'png').replace('.png', '_%d.png' % i)\n",
    "        svg_code = doc.toxml()\n",
    "        \n",
    "        with open(spawn_file,'w') as fout:\n",
    "            cairosvg.svg2png(bytestring=svg_code, write_to=fout)\n",
    "        print spawn_file\n",
    "        \n",
    "    doc.unlink()\n",
    "    \n",
    "    \n",
    "# fout = open('output.png','w')\n",
    "\n",
    "# svg_code = \"\"\"<?xml version=\"1.0\" standalone=\"no\"?>\n",
    "# <!DOCTYPE svg PUBLIC \"-//W3C//DTD SVG 1.1//EN\" \n",
    "#   \"http://www.w3.org/Graphics/SVG/1.1/DTD/svg11.dtd\">\n",
    "# <svg width=\"5cm\" height=\"4cm\" version=\"1.1\"\n",
    "#      xmlns=\"http://www.w3.org/2000/svg\">\n",
    "#   <desc>Four separate rectangles\n",
    "#   </desc>\n",
    "#     <rect x=\"0.5cm\" y=\"0.5cm\" width=\"2cm\" height=\"1cm\"/>\n",
    "#     <rect x=\"0.5cm\" y=\"2cm\" width=\"1cm\" height=\"1.5cm\"/>\n",
    "#     <rect x=\"3cm\" y=\"0.5cm\" width=\"1.5cm\" height=\"2cm\"/>\n",
    "#     <rect x=\"3.5cm\" y=\"3cm\" width=\"1cm\" height=\"0.5cm\"/>\n",
    "\n",
    "#   <!-- Show outline of canvas using 'rect' element -->\n",
    "#   <rect x=\".01cm\" y=\".01cm\" width=\"4.98cm\" height=\"3.98cm\"\n",
    "#         fill=\"none\" stroke=\"blue\" stroke-width=\".02cm\" />\n",
    "\n",
    "# </svg>\n",
    "# \"\"\"\n",
    "\n",
    "# cairosvg.svg2png(bytestring=svg_code,write_to=fout)\n",
    "\n",
    "# fout.close()\n",
    "\n"
   ]
  },
  {
   "cell_type": "code",
   "execution_count": null,
   "metadata": {
    "collapsed": true
   },
   "outputs": [],
   "source": []
  }
 ],
 "metadata": {
  "kernelspec": {
   "display_name": "Python 2",
   "language": "python",
   "name": "python2"
  },
  "language_info": {
   "codemirror_mode": {
    "name": "ipython",
    "version": 2
   },
   "file_extension": ".py",
   "mimetype": "text/x-python",
   "name": "python",
   "nbconvert_exporter": "python",
   "pygments_lexer": "ipython2",
   "version": "2.7.13"
  }
 },
 "nbformat": 4,
 "nbformat_minor": 2
}
