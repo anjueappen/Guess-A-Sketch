{
 "cells": [
  {
   "cell_type": "code",
   "execution_count": 1,
   "metadata": {
    "collapsed": false
   },
   "outputs": [],
   "source": [
    "from multiprocessing.dummy import Pool as ThreadPool\n",
    "\n",
    "import numpy as np\n",
    "\n",
    "\n",
    "def get_batch(filenames):\n",
    "    \n",
    "    fnames, truth_indicies = zip(*filenames)\n",
    "    \n",
    "    def proces_img(item):\n",
    "        path = item\n",
    "        return scipy.misc.imresize(np.array(Image.open(path), (256, 256)))\n",
    "    \n",
    "    pool = ThreadPool()\n",
    "    return pool.map(proces_img, fnames)"
   ]
  },
  {
   "cell_type": "code",
   "execution_count": 3,
   "metadata": {
    "collapsed": false
   },
   "outputs": [
    {
     "ename": "NameError",
     "evalue": "name 'scipy' is not defined",
     "traceback": [
      "\u001b[0;31m---------------------------------------------------------------------------\u001b[0m",
      "\u001b[0;31mNameError\u001b[0m                                 Traceback (most recent call last)",
      "\u001b[0;32m<ipython-input-3-0b92cb73317e>\u001b[0m in \u001b[0;36m<module>\u001b[0;34m()\u001b[0m\n\u001b[0;32m----> 1\u001b[0;31m scipy.misc.imresize(np.array(\n\u001b[0m\u001b[1;32m      2\u001b[0m     Image.open('/Users/anjueappen/png/axe/649.png')), (256, 256))\n",
      "\u001b[0;31mNameError\u001b[0m: name 'scipy' is not defined"
     ],
     "output_type": "error"
    }
   ],
   "source": [
    "scipy.misc.imresize(np.array(\n",
    "    Image.open('/Users/anjueappen/png/axe/649.png')), (256, 256))"
   ]
  },
  {
   "cell_type": "code",
   "execution_count": 14,
   "metadata": {
    "collapsed": false
   },
   "outputs": [],
   "source": [
    "# coding: utf-8\n",
    "\n",
    "# In[1]:\n",
    "\n",
    "import cv2\n",
    "\n",
    "\n",
    "import math\n",
    "import random\n",
    "import os\n",
    "from PIL import Image\n",
    "import scipy.misc\n",
    "import cv2\n",
    "import numpy as np\n",
    "import matplotlib.pyplot as plt\n",
    "\n",
    "import multiprocessing\n",
    "\n",
    "TRANS_SPREAD = 100\n",
    "\n",
    "filenames = [('/Users/anjueappen/png/axe/649.png', 4), ('/Users/anjueappen/png/axe/650.png', 4), \n",
    "            ('/Users/anjueappen/png/ant/244.png', 5), ('/Users/anjueappen/png/ant/245.png', 5), \n",
    "           ('/Users/anjueappen/png/ant/246.png', 5), ('/Users/anjueappen/png/ant/247.png', 5), \n",
    "           ('/Users/anjueappen/png/ant/248.png', 5), ('/Users/anjueappen/png/ant/249.png', 5)]\n",
    "\n",
    "def getExample():\n",
    "    try:\n",
    "        imgPath, index = random.choice(filenames) \n",
    "        truth = np.zeros(250)\n",
    "        truth[index] = 1\n",
    "        return scipy.misc.imresize(np.array(Image.open(imgPath)), (256, 256)), truth\n",
    "    \n",
    "    except Exception as e:\n",
    "        print e\n",
    "        return getExample()\n",
    "\n",
    "def getExamplesGenerator():\n",
    "    def examplesGenerator(q):\n",
    "        while True:\n",
    "            q.put(getExample())\n",
    "\n",
    "    queue = multiprocessing.Queue(maxsize=128)\n",
    "    for w in range(0, 16):\n",
    "        proc = multiprocessing.Process(target=examplesGenerator, args=(queue,))\n",
    "        proc.start()\n",
    "\n",
    "    while True:\n",
    "        yield queue.get()"
   ]
  },
  {
   "cell_type": "code",
   "execution_count": 15,
   "metadata": {
    "collapsed": false
   },
   "outputs": [
    {
     "name": "stdout",
     "output_type": "stream",
     "text": [
      "[[255 255 255 ..., 255 255 255]\n",
      " [255 255 255 ..., 255 255 255]\n",
      " [255 255 255 ..., 255 255 255]\n",
      " ..., \n",
      " [255 255 255 ..., 255 255 255]\n",
      " [255 255 255 ..., 255 255 255]\n",
      " [255 255 255 ..., 255 255 255]]\n",
      "[ 0.  0.  0.  0.  0.  1.  0.  0.  0.  0.  0.  0.  0.  0.  0.  0.  0.  0.\n",
      "  0.  0.  0.  0.  0.  0.  0.  0.  0.  0.  0.  0.  0.  0.  0.  0.  0.  0.\n",
      "  0.  0.  0.  0.  0.  0.  0.  0.  0.  0.  0.  0.  0.  0.  0.  0.  0.  0.\n",
      "  0.  0.  0.  0.  0.  0.  0.  0.  0.  0.  0.  0.  0.  0.  0.  0.  0.  0.\n",
      "  0.  0.  0.  0.  0.  0.  0.  0.  0.  0.  0.  0.  0.  0.  0.  0.  0.  0.\n",
      "  0.  0.  0.  0.  0.  0.  0.  0.  0.  0.  0.  0.  0.  0.  0.  0.  0.  0.\n",
      "  0.  0.  0.  0.  0.  0.  0.  0.  0.  0.  0.  0.  0.  0.  0.  0.  0.  0.\n",
      "  0.  0.  0.  0.  0.  0.  0.  0.  0.  0.  0.  0.  0.  0.  0.  0.  0.  0.\n",
      "  0.  0.  0.  0.  0.  0.  0.  0.  0.  0.  0.  0.  0.  0.  0.  0.  0.  0.\n",
      "  0.  0.  0.  0.  0.  0.  0.  0.  0.  0.  0.  0.  0.  0.  0.  0.  0.  0.\n",
      "  0.  0.  0.  0.  0.  0.  0.  0.  0.  0.  0.  0.  0.  0.  0.  0.  0.  0.\n",
      "  0.  0.  0.  0.  0.  0.  0.  0.  0.  0.  0.  0.  0.  0.  0.  0.  0.  0.\n",
      "  0.  0.  0.  0.  0.  0.  0.  0.  0.  0.  0.  0.  0.  0.  0.  0.  0.  0.\n",
      "  0.  0.  0.  0.  0.  0.  0.  0.  0.  0.  0.  0.  0.  0.  0.  0.]\n"
     ]
    },
    {
     "data": {
      "image/png": "[encoded data removed]",
      "text/plain": [
       "<matplotlib.figure.Figure at 0x107543690>"
      ]
     },
     "metadata": {},
     "output_type": "display_data"
    }
   ],
   "source": [
    "if __name__ == \"__main__\":\n",
    "    for _ in range(1):\n",
    "        img, truth = getExample()\n",
    "        print img\n",
    "        print truth\n",
    "        plt.imshow(img, cmap='Greys_r')\n",
    "        plt.show()"
   ]
  },
  {
   "cell_type": "code",
   "execution_count": null,
   "metadata": {
    "collapsed": true
   },
   "outputs": [],
   "source": [
    ""
   ]
  },
  {
   "cell_type": "code",
   "execution_count": null,
   "metadata": {
    "collapsed": true
   },
   "outputs": [],
   "source": [
    ""
   ]
  }
 ],
 "metadata": {
  "kernelspec": {
   "display_name": "Python 2",
   "language": "python",
   "name": "python2"
  },
  "language_info": {
   "codemirror_mode": {
    "name": "ipython",
    "version": 2.0
   },
   "file_extension": ".py",
   "mimetype": "text/x-python",
   "name": "python",
   "nbconvert_exporter": "python",
   "pygments_lexer": "ipython2",
   "version": "2.7.13"
  }
 },
 "nbformat": 4,
 "nbformat_minor": 0
}