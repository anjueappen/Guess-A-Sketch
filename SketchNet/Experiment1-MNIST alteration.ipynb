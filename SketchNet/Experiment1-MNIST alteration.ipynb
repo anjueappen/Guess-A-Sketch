{
 "cells": [
  {
   "cell_type": "code",
   "execution_count": 2,
   "metadata": {
    "collapsed": false
   },
   "outputs": [],
   "source": [
    "import os\n",
    "import numpy as np\n",
    "import tensorflow as tf\n",
    "from numpy.lib.stride_tricks import as_strided\n",
    "from scipy.signal import convolve2d\n",
    "import scipy\n",
    "import multiprocessing\n",
    "import random\n",
    "\n",
    "from PIL import Image"
   ]
  },
  {
   "cell_type": "code",
   "execution_count": 3,
   "metadata": {
    "collapsed": true
   },
   "outputs": [],
   "source": [
    "# Helper Functions \n",
    "\n",
    "def weight_variable(shape):\n",
    "  initial = tf.truncated_normal(shape, stddev=0.1)\n",
    "  return tf.Variable(initial)\n",
    "\n",
    "def bias_variable(shape):\n",
    "  initial = tf.constant(0.1, shape=shape)\n",
    "  return tf.Variable(initial)\n",
    "\n",
    "def conv2d(x, W):\n",
    "  return tf.nn.conv2d(x, W, strides=[1, 1, 1, 1], padding='SAME')\n",
    "\n",
    "def max_pool_2x2(x):\n",
    "  return tf.nn.max_pool(x, ksize=[1, 2, 2, 1],\n",
    "                        strides=[1, 2, 2, 1], padding='SAME')"
   ]
  },
  {
   "cell_type": "code",
   "execution_count": 4,
   "metadata": {
    "collapsed": true
   },
   "outputs": [],
   "source": [
    "def get_classes(folder):\n",
    "    return [x[0].split('/')[-1] for x in os.walk(folder)][1:]\n",
    "\n",
    "\n",
    "def read_and_flatten(class_dir, ground_truth):\n",
    "    fnames = [(os.path.join(class_dir, f), ground_truth) \n",
    "              for f in os.listdir(class_dir) \n",
    "              if os.path.isfile(os.path.join(class_dir, f))]\n",
    "    return fnames\n",
    "\n",
    "def preprocess(directory):\n",
    "    \"\"\"\n",
    "    Returns: list of tuples: (filename, ground truth)\n",
    "    \"\"\"\n",
    "    classes = get_classes(directory)\n",
    "    num_classes = len(classes)\n",
    "    \n",
    "    imgs = []\n",
    "    #multiprocess this loop? \n",
    "    for i in range(num_classes):\n",
    "        ground_truth = np.zeros(num_classes)\n",
    "        ground_truth[i] = 1 # set label for this \n",
    "        \n",
    "        imgs += read_and_flatten(directory +'/'+ classes[i], ground_truth)\n",
    "    return imgs\n",
    "\n",
    "def create_batch(truth_mapping, indicies, batch_size):\n",
    "    \"\"\"\n",
    "    truth_mapping: list of tuples: (filepath, truth_vector)\n",
    "    indicies: list of indicies we can use in batch \n",
    "    batch_size: how many images to use in batch \n",
    "    \"\"\"\n",
    "    if len(truth_mapping) < batch_size: \n",
    "        raise Exception('Not enough images to create batch!'); \n",
    "    \n",
    "    X = []\n",
    "    truth = []\n",
    "    random.shuffle(indicies)\n",
    "    \n",
    "    for i in indicies[:batch_size]:\n",
    "        path, ground_truth = truth_mapping[i]\n",
    "        X.append(np.ndarray.flatten(scipy.misc.imresize(np.array(Image.open(path)), (100, 100))))\n",
    "        truth.append(ground_truth)\n",
    "        \n",
    "        random.shuffle(indicies) # reshuffle \n",
    "        \n",
    "    return X, truth\n",
    "\n",
    "# preprocess('/Users/anjueappen/Downloads/png')"
   ]
  },
  {
   "cell_type": "code",
   "execution_count": 5,
   "metadata": {
    "collapsed": false
   },
   "outputs": [],
   "source": [
    "# def net(width, height, train=False):\n",
    "#     graph = tf.Graph()\n",
    "#     with graph.as_default():\n",
    "train = True\n",
    "width = 100\n",
    "height = 100\n",
    "num_labels = 250\n",
    "x = tf.placeholder(tf.float32, [None, width*height])\n",
    "y_ = tf.placeholder(tf.float32, [None, num_labels])\n",
    "keep_prob = tf.placeholder(tf.float32)\n",
    "\n",
    "filter_1 = 32\n",
    "filter_2 = 64\n",
    "filter_3 = 1024\n",
    "\n",
    "# Layer 1\n",
    "W_conv1 = weight_variable([5, 5, 1, filter_1])\n",
    "b_conv1 = bias_variable([filter_1])\n",
    "\n",
    "x_image = tf.reshape(x, [-1,width,height,1])\n",
    "\n",
    "h_conv1 = tf.nn.relu(conv2d(x_image, W_conv1) + b_conv1)\n",
    "h_pool1 = max_pool_2x2(h_conv1)\n",
    "\n",
    "# Layer 2\n",
    "\n",
    "W_conv2 = weight_variable([5, 5, filter_1, filter_2])\n",
    "b_conv2 = bias_variable([filter_2])\n",
    "\n",
    "h_conv2 = tf.nn.relu(conv2d(h_pool1, W_conv2) + b_conv2)\n",
    "h_pool2 = max_pool_2x2(h_conv2)\n",
    "\n",
    "\n",
    "# Layer 3 - Densely Connected \n",
    "\n",
    "W_fc1 = weight_variable([25 * 25 * filter_2, filter_3])\n",
    "b_fc1 = bias_variable([filter_3])\n",
    "\n",
    "h_pool2_flat = tf.reshape(h_pool2, [-1, 25*25*filter_2])\n",
    "h_fc1 = tf.nn.relu(tf.matmul(h_pool2_flat, W_fc1) + b_fc1)\n",
    "\n",
    "# Dropout Layer \n",
    "\n",
    "h_fc1_drop = tf.nn.dropout(h_fc1, keep_prob)\n",
    "\n",
    "# Readout Layer - classify the images\n",
    "W_fc2 = weight_variable([filter_3, num_labels])\n",
    "b_fc2 = bias_variable([num_labels])\n",
    "\n",
    "y_conv = tf.matmul(h_fc1_drop, W_fc2) + b_fc2\n",
    "        \n",
    "# Training Steps -- if we are training, add training steps to graph\n",
    "if train: \n",
    "    cross_entropy = tf.reduce_mean(tf.nn.softmax_cross_entropy_with_logits(labels=y_, logits=y_conv))\n",
    "    train_step = tf.train.AdamOptimizer(1e-4).minimize(cross_entropy)\n",
    "        \n",
    "# Make Prediction\n",
    "correct_prediction = tf.equal(tf.argmax(y_conv,1), tf.argmax(y_,1))\n",
    "accuracy = tf.reduce_mean(tf.cast(correct_prediction, tf.float32))\n",
    "        \n",
    "#     return graph "
   ]
  },
  {
   "cell_type": "code",
   "execution_count": null,
   "metadata": {
    "collapsed": false
   },
   "outputs": [
    {
     "name": "stdout",
     "output_type": "stream",
     "text": [
      "0\n",
      "step 0, training accuracy 0.02\n",
      "1\n",
      "2\n",
      "3\n",
      "4\n",
      "5\n",
      "6\n",
      "7\n",
      "8\n",
      "9\n"
     ]
    }
   ],
   "source": [
    "# Training and Evaluation - where the magic happens :) \n",
    "\n",
    "# DATA_PATH = '/Users/anjueappen/Downloads/png'\n",
    "\n",
    "# from data_prep import preprocess, create_batch \n",
    "from sklearn.model_selection import KFold\n",
    "\n",
    "# TODO: Recreate separate sessions for training and testing \n",
    "with tf.Session() as sess:\n",
    "    init = tf.global_variables_initializer()\n",
    "    sess.run(init)\n",
    "    \n",
    "    ground_truth_mapping = preprocess('/Users/anjueappen/Downloads/png')\n",
    "    index = list(range(len(ground_truth_mapping)))\n",
    "\n",
    "    for i in range(1000):\n",
    "        print(i)\n",
    "        batch = create_batch(ground_truth_mapping, index, 50)\n",
    "        train_step.run(feed_dict={x: np.array(batch[0]), y_: np.array(batch[1]), keep_prob: 0.5})\n",
    "\n",
    "        if i%100 == 0:\n",
    "            train_accuracy = accuracy.eval(feed_dict={x:batch[0], y_: batch[1], keep_prob: 1.0})\n",
    "            print(\"step %d, training accuracy %g\"%(i, train_accuracy))\n",
    "        \n",
    "    batch = create_batch(ground_truth_mapping, index, 50)\n",
    "    print(\"test accuracy %g\" % accuracy.eval(feed_dict={x: np.array(batch[0]), y_: np.array(batch[1]), keep_prob: 1.0}))"
   ]
  },
  {
   "cell_type": "code",
   "execution_count": null,
   "metadata": {
    "collapsed": false
   },
   "outputs": [],
   "source": [
    "\"\"\"Scrap Code \n",
    "kf = KFold(n_splits=10, shuffle=True) # Hard coded 'k=10'\n",
    "for train_index, test_index in kf.split(list(ground_truth_mapping.items()):\n",
    "    \n",
    "\n",
    "\"\"\"\n"
   ]
  },
  {
   "cell_type": "code",
   "execution_count": null,
   "metadata": {
    "collapsed": true
   },
   "outputs": [],
   "source": []
  }
 ],
 "metadata": {
  "kernelspec": {
   "display_name": "Python 3",
   "language": "python",
   "name": "python3"
  },
  "language_info": {
   "codemirror_mode": {
    "name": "ipython",
    "version": 3
   },
   "file_extension": ".py",
   "mimetype": "text/x-python",
   "name": "python",
   "nbconvert_exporter": "python",
   "pygments_lexer": "ipython3",
   "version": "3.5.2"
  }
 },
 "nbformat": 4,
 "nbformat_minor": 2
}
